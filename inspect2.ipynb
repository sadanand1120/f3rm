{
 "cells": [
  {
   "cell_type": "code",
   "execution_count": null,
   "id": "291b28ac",
   "metadata": {},
   "outputs": [],
   "source": [
    "import os\n",
    "os.environ['CUDA_VISIBLE_DEVICES'] = '7'\n",
    "from nerfstudio.utils.eval_utils import eval_setup\n",
    "from pathlib import Path\n",
    "import matplotlib.pyplot as plt\n",
    "from PIL import Image\n",
    "import torch\n",
    "import numpy as np\n",
    "from f3rm.minimal.homography import Homography\n",
    "os.environ[\"TORCHDYNAMO_DISABLE\"] = \"1\""
   ]
  },
  {
   "cell_type": "code",
   "execution_count": null,
   "id": "74c2f2f9",
   "metadata": {},
   "outputs": [],
   "source": [
    "# config_path = Path(\"outputs/ahgroom_colmap/f3rm/2025-04-14_190026/config.yml\")\n",
    "config_path = Path(\"outputs/stata_office/f3rm/2025-04-03_050224/config.yml\")\n",
    "eval_idx = 0\n",
    "cfg, pipeline, _, _ = eval_setup(config_path=config_path)\n",
    "model = pipeline.model\n",
    "cameras = pipeline.datamanager.eval_dataset.cameras\n",
    "camera_ray_bundle = cameras.generate_rays(camera_indices=eval_idx).to(model.device)"
   ]
  },
  {
   "cell_type": "code",
   "execution_count": null,
   "id": "67e7e7f4",
   "metadata": {},
   "outputs": [],
   "source": [
    "outputs = model.get_outputs_for_camera_ray_bundle(camera_ray_bundle)\n",
    "outputs[\"rgb\"].shape, outputs[\"depth\"].shape, outputs[\"feature\"].shape, outputs[\"feature_pca\"].shape"
   ]
  },
  {
   "cell_type": "code",
   "execution_count": null,
   "id": "16f4ecc0",
   "metadata": {},
   "outputs": [],
   "source": [
    "plt.imshow((outputs[\"rgb\"].cpu().numpy() * 255).astype(np.uint8))\n",
    "plt.title(\"RGB\")\n",
    "plt.axis(\"off\")\n",
    "plt.show()"
   ]
  },
  {
   "cell_type": "code",
   "execution_count": null,
   "id": "a1f4e74a",
   "metadata": {},
   "outputs": [],
   "source": [
    "depth = outputs[\"depth\"].squeeze().cpu()\n",
    "depth_norm = (depth - depth.min()) / (depth.max() - depth.min())\n",
    "\n",
    "plt.imshow(depth_norm.numpy(), cmap=\"inferno\")\n",
    "plt.title(\"Depth\")\n",
    "plt.axis(\"off\")\n",
    "plt.show()"
   ]
  },
  {
   "cell_type": "code",
   "execution_count": null,
   "id": "17a9589c",
   "metadata": {},
   "outputs": [],
   "source": [
    "pca_img = outputs[\"feature_pca\"].cpu().numpy()\n",
    "pca_img = (pca_img - pca_img.min()) / (pca_img.max() - pca_img.min())\n",
    "\n",
    "plt.imshow(pca_img)\n",
    "plt.title(\"Feature PCA\")\n",
    "plt.axis(\"off\")\n",
    "plt.show()"
   ]
  },
  {
   "cell_type": "code",
   "execution_count": null,
   "id": "e5e99b10",
   "metadata": {},
   "outputs": [],
   "source": [
    "pil_img_gt = Image.open(str(pipeline.datamanager.eval_dataset.image_filenames[eval_idx])).convert(\"RGB\")\n",
    "\n",
    "plt.imshow(np.array(pil_img_gt))\n",
    "plt.title(\"GT Image\")\n",
    "plt.axis(\"off\")\n",
    "plt.show()"
   ]
  },
  {
   "cell_type": "code",
   "execution_count": null,
   "id": "3e308dd5",
   "metadata": {},
   "outputs": [],
   "source": []
  },
  {
   "cell_type": "code",
   "execution_count": null,
   "id": "5250fb06",
   "metadata": {},
   "outputs": [],
   "source": [
    "camera_ray_bundle.origins[0][0]   # all origins same, camera center in world coords"
   ]
  },
  {
   "cell_type": "code",
   "execution_count": null,
   "id": "010b1250",
   "metadata": {},
   "outputs": [],
   "source": [
    "for k, v in camera_ray_bundle.__dict__.items():\n",
    "    print(k, v.shape if hasattr(v, 'shape') else v)"
   ]
  },
  {
   "cell_type": "code",
   "execution_count": null,
   "id": "411327f4",
   "metadata": {},
   "outputs": [],
   "source": [
    "num_rays_per_chunk = model.config.eval_num_rays_per_chunk\n",
    "ray_bundle = camera_ray_bundle.get_row_major_sliced_ray_bundle(0, num_rays_per_chunk)\n",
    "if model.collider is not None:\n",
    "    ray_bundle = model.collider(ray_bundle)"
   ]
  },
  {
   "cell_type": "code",
   "execution_count": null,
   "id": "f5887c14",
   "metadata": {},
   "outputs": [],
   "source": [
    "for k, v in ray_bundle.__dict__.items():\n",
    "    print(k, v.shape if hasattr(v, 'shape') else v)"
   ]
  },
  {
   "cell_type": "code",
   "execution_count": null,
   "id": "e610507d",
   "metadata": {},
   "outputs": [],
   "source": [
    "ray_samples, weights_list, ray_samples_list = model.proposal_sampler(ray_bundle, density_fns=model.density_fns)"
   ]
  },
  {
   "cell_type": "code",
   "execution_count": null,
   "id": "ac6044b8",
   "metadata": {},
   "outputs": [],
   "source": [
    "for k, v in ray_samples.frustums.__dict__.items():\n",
    "    print(k, v.shape if hasattr(v, 'shape') else v)"
   ]
  },
  {
   "cell_type": "code",
   "execution_count": null,
   "id": "79671238",
   "metadata": {},
   "outputs": [],
   "source": [
    "# 16384 different pixel postions of the original H x W image, each corresponds to a single origin and direction, along with proposal sampler samples 48 (x, y, z) points along the ray at different depths\n",
    "ray_samples.frustums.get_positions().shape"
   ]
  },
  {
   "cell_type": "code",
   "execution_count": null,
   "id": "94df845a",
   "metadata": {},
   "outputs": [],
   "source": [
    "((ray_samples.frustums.starts + ray_samples.frustums.ends) / 2).squeeze(-1)[-1] # center of the frustum"
   ]
  },
  {
   "cell_type": "code",
   "execution_count": null,
   "id": "ef413272",
   "metadata": {},
   "outputs": [],
   "source": [
    "ray_samples.frustums.starts.squeeze(-1)[0]"
   ]
  },
  {
   "cell_type": "code",
   "execution_count": null,
   "id": "abe4947f",
   "metadata": {},
   "outputs": [],
   "source": [
    "ray_samples.frustums.ends.squeeze(-1)[0]"
   ]
  },
  {
   "cell_type": "code",
   "execution_count": null,
   "id": "c9d9add3",
   "metadata": {},
   "outputs": [],
   "source": []
  },
  {
   "cell_type": "code",
   "execution_count": null,
   "id": "8bb440fd",
   "metadata": {},
   "outputs": [],
   "source": [
    "field_outputs = model.field.forward(ray_samples, compute_normals=model.config.predict_normals)"
   ]
  },
  {
   "cell_type": "code",
   "execution_count": null,
   "id": "7cfe6d63",
   "metadata": {},
   "outputs": [],
   "source": [
    "field_outputs.keys()"
   ]
  },
  {
   "cell_type": "code",
   "execution_count": null,
   "id": "fc3d234f",
   "metadata": {},
   "outputs": [],
   "source": [
    "from nerfstudio.field_components.field_heads import FieldHeadNames\n",
    "field_outputs[FieldHeadNames.RGB].shape, field_outputs[FieldHeadNames.DENSITY].shape"
   ]
  },
  {
   "cell_type": "code",
   "execution_count": null,
   "id": "f1d31395",
   "metadata": {},
   "outputs": [],
   "source": [
    "weights = ray_samples.get_weights(field_outputs[FieldHeadNames.DENSITY])\n",
    "weights.shape"
   ]
  },
  {
   "cell_type": "code",
   "execution_count": null,
   "id": "d0343652",
   "metadata": {},
   "outputs": [],
   "source": [
    "rgb = model.renderer_rgb(rgb=field_outputs[FieldHeadNames.RGB], weights=weights)\n",
    "rgb.shape"
   ]
  },
  {
   "cell_type": "code",
   "execution_count": null,
   "id": "8683cd41",
   "metadata": {},
   "outputs": [],
   "source": [
    "depth = model.renderer_depth(weights=weights, ray_samples=ray_samples)\n",
    "depth.shape"
   ]
  },
  {
   "cell_type": "code",
   "execution_count": null,
   "id": "2f08e221",
   "metadata": {},
   "outputs": [],
   "source": [
    "from f3rm.feature_field import FeatureField, FeatureFieldHeadNames\n",
    "ff_outputs = model.feature_field(ray_samples)\n",
    "ff_outputs[FeatureFieldHeadNames.FEATURE].shape"
   ]
  },
  {
   "cell_type": "code",
   "execution_count": null,
   "id": "2ce54e1c",
   "metadata": {},
   "outputs": [],
   "source": [
    "features = model.renderer_feature(features=ff_outputs[FeatureFieldHeadNames.FEATURE], weights=weights)\n",
    "features.shape"
   ]
  },
  {
   "cell_type": "code",
   "execution_count": null,
   "id": "435da63e",
   "metadata": {},
   "outputs": [],
   "source": []
  },
  {
   "cell_type": "code",
   "execution_count": null,
   "id": "87ba4fb8",
   "metadata": {},
   "outputs": [],
   "source": [
    "# num parameters in field and feature_field\n",
    "num_params_field = sum(p.numel() for p in model.field.parameters())\n",
    "num_params_feature_field = sum(p.numel() for p in model.feature_field.parameters())\n",
    "num_params_field, num_params_feature_field"
   ]
  },
  {
   "cell_type": "code",
   "execution_count": null,
   "id": "e61d22ad",
   "metadata": {},
   "outputs": [],
   "source": []
  },
  {
   "cell_type": "markdown",
   "id": "6cc024af",
   "metadata": {},
   "source": [
    "# Custom Pose"
   ]
  },
  {
   "cell_type": "code",
   "execution_count": null,
   "id": "64951138",
   "metadata": {},
   "outputs": [],
   "source": [
    "from nerfstudio.cameras.cameras import Cameras\n",
    "\n",
    "# Use intrinsics from eval_dataset (assuming you want similar FOV)\n",
    "eval_cams = pipeline.datamanager.eval_dataset.cameras\n",
    "fx, fy = eval_cams.fx[0], eval_cams.fy[0]\n",
    "cx, cy = eval_cams.cx[0], eval_cams.cy[0]\n",
    "height, width = eval_cams.height[0], eval_cams.width[0]\n",
    "dist_params = eval_cams.distortion_params[0]\n",
    "cam_type = eval_cams.camera_type[0]"
   ]
  },
  {
   "cell_type": "code",
   "execution_count": null,
   "id": "8fa9d751",
   "metadata": {},
   "outputs": [],
   "source": [
    "# c2w of a known camera pose\n",
    "c2w_known = eval_cams.camera_to_worlds[0].cpu().numpy()\n",
    "# add 4th row for homogeneous coordinates\n",
    "c2w_known = np.vstack((c2w_known, [0, 0, 0, 1]))\n",
    "# translate camera 0.5m forward (ie, -0.5 in z in nerfstudio convention) wrt to known cam frame\n",
    "c2w_delta = Homography.get_std_trans(cz=-0.5)  # this is the known to new transform\n",
    "c2w_new = c2w_known @ np.linalg.inv(c2w_delta)\n",
    "c2w_new = c2w_new[:3, :4]  # remove the last row\n",
    "c2w_new = torch.from_numpy(c2w_new).float().to(model.device)[None, ...]"
   ]
  },
  {
   "cell_type": "code",
   "execution_count": null,
   "id": "18c4d205",
   "metadata": {},
   "outputs": [],
   "source": [
    "# c2w = torch.eye(4)[None, ...].to(model.device)\n",
    "# c2w[..., 2, 3] = 0.5\n",
    "# c2w = c2w[:, :3, :4]  # Remove last row"
   ]
  },
  {
   "cell_type": "code",
   "execution_count": null,
   "id": "8c67b3d9",
   "metadata": {},
   "outputs": [],
   "source": [
    "c2w_viewer = [-0.8025081587509822,0.5966412403996988,8.326673161838576e-17,0,-0.4149196340756713,-0.5580847736047082,0.7185981069914683,0,0.42874523659091934,0.5766808042959521,0.6954257016872606,0,0.1381675073877709,0.4818906926693194,0.31446781793079853,1]\n",
    "c2w_viewer = np.array(c2w_viewer).reshape(4, 4).T[:3, :4]  # remove last row\n",
    "c2w_viewer = torch.from_numpy(c2w_viewer).float().to(model.device)[None, ...]\n",
    "c2w_viewer.shape"
   ]
  },
  {
   "cell_type": "code",
   "execution_count": null,
   "id": "14cd9db9",
   "metadata": {},
   "outputs": [],
   "source": [
    "fx, fy, cx, cy, height, width, dist_params, cam_type"
   ]
  },
  {
   "cell_type": "code",
   "execution_count": null,
   "id": "bef0e991",
   "metadata": {},
   "outputs": [],
   "source": [
    "width = torch.tensor([336])\n",
    "height = torch.tensor([336])\n",
    "fx = fy = torch.tensor([450.0])                # Wide FOV\n",
    "cx = width / 2                                 # 480\n",
    "cy = height / 2                                # 270\n",
    "dist_params = torch.zeros(6)\n",
    "camera_type = torch.tensor([1])                # Pinhole"
   ]
  },
  {
   "cell_type": "code",
   "execution_count": null,
   "id": "8cf01331",
   "metadata": {},
   "outputs": [],
   "source": [
    "custom_camera = Cameras(\n",
    "    fx=fx[None],\n",
    "    fy=fy[None],\n",
    "    cx=cx[None],\n",
    "    cy=cy[None],\n",
    "    height=height[None],\n",
    "    width=width[None],\n",
    "    camera_to_worlds=c2w_viewer,\n",
    "    distortion_params=dist_params[None],\n",
    "    camera_type=cam_type[None],\n",
    "    times=None,\n",
    "    metadata=None,\n",
    ").to(model.device)\n",
    "\n",
    "ray_bundle = custom_camera.generate_rays(camera_indices=0).to(model.device)\n",
    "outputs = model.get_outputs_for_camera_ray_bundle(ray_bundle)"
   ]
  },
  {
   "cell_type": "code",
   "execution_count": null,
   "id": "36c1217d",
   "metadata": {},
   "outputs": [],
   "source": [
    "plt.imshow((outputs[\"rgb\"].cpu().numpy() * 255).astype(np.uint8))\n",
    "plt.title(\"RGB\")\n",
    "plt.axis(\"off\")\n",
    "plt.show()"
   ]
  },
  {
   "cell_type": "code",
   "execution_count": null,
   "id": "08e8d579",
   "metadata": {},
   "outputs": [],
   "source": [
    "from einops import rearrange, reduce\n",
    "patches = rearrange(outputs['feature'], '(h p1) (w p2) d -> h w p1 p2 d', p1=14, p2=14)\n",
    "patchified = reduce(patches, 'h w p1 p2 d -> h w d', 'mean')"
   ]
  },
  {
   "cell_type": "code",
   "execution_count": null,
   "id": "4ef3d90b",
   "metadata": {},
   "outputs": [],
   "source": [
    "patchified = patchified.reshape((576, 768))"
   ]
  },
  {
   "cell_type": "code",
   "execution_count": null,
   "id": "5bc33ceb",
   "metadata": {},
   "outputs": [],
   "source": [
    "patchified = patchified.cpu().numpy()"
   ]
  },
  {
   "cell_type": "code",
   "execution_count": null,
   "id": "fbae18e7",
   "metadata": {},
   "outputs": [],
   "source": []
  },
  {
   "cell_type": "code",
   "execution_count": null,
   "metadata": {},
   "outputs": [],
   "source": []
  },
  {
   "cell_type": "code",
   "execution_count": null,
   "id": "aad7828e",
   "metadata": {},
   "outputs": [],
   "source": []
  },
  {
   "cell_type": "code",
   "execution_count": null,
   "id": "400a6553",
   "metadata": {},
   "outputs": [],
   "source": []
  },
  {
   "cell_type": "code",
   "execution_count": null,
   "metadata": {},
   "outputs": [],
   "source": []
  }
 ],
 "metadata": {
  "kernelspec": {
   "display_name": "f3rm",
   "language": "python",
   "name": "python3"
  },
  "language_info": {
   "codemirror_mode": {
    "name": "ipython",
    "version": 3
   },
   "file_extension": ".py",
   "mimetype": "text/x-python",
   "name": "python",
   "nbconvert_exporter": "python",
   "pygments_lexer": "ipython3",
   "version": "3.9.15"
  }
 },
 "nbformat": 4,
 "nbformat_minor": 5
}
